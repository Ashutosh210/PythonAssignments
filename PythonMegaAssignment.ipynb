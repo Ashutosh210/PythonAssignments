{
 "cells": [
  {
   "cell_type": "code",
   "execution_count": null,
   "metadata": {},
   "outputs": [],
   "source": [
    "Q1. Why do we call Python as a general purpose and high-level programming language?\n",
    "\n",
    "Ans : We call python a general purpose and high level programming language because it is written in human readable and\n",
    "    understandable language and not in machine language (Binary language). It is used for multiple purpose like \n",
    "    Web development, data analysis, artificial intelligence etc. It also supports object oriented programming. \n",
    "    \n",
    "\n",
    "Q2. Why is Python called a dynamically typed language?\n",
    "\n",
    "Ans : Python is a dynamically typed language because we do not have to declare the type of the variable while assigning a \n",
    "    value.  In python the type of variable is determined only during runtime.\n",
    "    \n",
    "\n",
    "Q3. List some pros and cons of Python programming language?\n",
    "\n",
    "Ans : Pros of Python programming language :\n",
    "        1. Easy to learn and read.\n",
    "        2. Vast collection of libraries.\n",
    "        3. Free, open-source and vibrant community.\n",
    "        4. Platform independent (Portable).\n",
    "    \n",
    "    Cons of Python programming language :\n",
    "        1. Consumes a lot of memory space.\n",
    "        2. Weak in mobile computing.\n",
    "        3. Slower than compiled language.\n",
    "        4. No multithreading.\n",
    "        \n",
    "Q4. In what all domains can we use Python?\n",
    "\n",
    "Ans : We can use Python in following domains :\n",
    "        1. Data Engineering\n",
    "        2. Data analytics and data visualization\n",
    "        3. Data Science\n",
    "        4. AI and Machien Learning\n",
    "        5. Application development\n",
    "        6. Automation\n",
    "        7. Desktop GUI\n",
    "\n",
    "Q5. What are variable and how can we declare them?\n",
    "\n",
    "Ans : In Python variable is a container which stores values.\n",
    "    To declare a variable in Python we have to follow following rules :\n",
    "        1. Variable name must start with a letter or underscore.\n",
    "        2. Variabel name cannot start with a number.\n",
    "        3. Variabel name only contains alpha numeric characters and underscores.\n",
    "        4. Variable names are case sensitive.\n",
    "        5. Keywords cannot be used for naming variable.\n",
    "        \n",
    "    example:\n",
    "        ashu_21 = 2104\n",
    "        \n",
    "    In above example \"ashu_21\" is a variable.\n",
    "    \n",
    "Q6. How can we take an input from the user in Python?\n",
    "\n",
    "Ans : We have to use input() function to take an input from the user in python.\n",
    "    example :\n",
    "        name = input(\"Enter Your name :\")\n",
    "        \n",
    "\n",
    "Q7. What is the default datatype of the value that has been taken as an input using input() function?\n",
    "\n",
    "Ans : String is the default datatype of the value that has been taken as an input using input() function.\n",
    "    \n",
    "\n",
    "Q8. What is type casting?\n",
    "\n",
    "Ans : The process of converting the value of one data type to another data type is type casting.\n",
    "    for example, by default we get string data type by input() function and if we want to get an int data type we can\n",
    "    do typecasting,\n",
    "    age = int(input(\"Enter your Age :\"))\n",
    "\n",
    "    \n",
    "Q9. Can we take more than one input from the user using single input() function? If yes, how? If no, why?\n",
    "\n",
    "Ans : Yes, we can take multiple input from the user using single input() function with the help of split() and map() method.\n",
    "    example :\n",
    "        first_name, last_name = input(\"Enter the value :\").split()\n",
    "        \n",
    "        marks = list(map(int, input(\"Enter mark of diff subjects: \").split()))\n",
    "        \n",
    "\n",
    "Q10. What are keywords?\n",
    "\n",
    "Ans : Keywords are special reserved words that have specific meanings and purposes and cannot be used for anything but\n",
    "    those specific purposes.\n",
    "    "
   ]
  },
  {
   "cell_type": "code",
   "execution_count": null,
   "metadata": {},
   "outputs": [],
   "source": [
    "Q11. Can we use keywords as a variable? Support your answer with reason.\n",
    "\n",
    "Ans : No, we cannot use keywords as a variable.\n",
    "    Reason : If we use keywords as a variable we will get syntax error.\n",
    "for example :"
   ]
  },
  {
   "cell_type": "code",
   "execution_count": 1,
   "metadata": {},
   "outputs": [
    {
     "ename": "SyntaxError",
     "evalue": "invalid syntax (<ipython-input-1-0f3c77528c35>, line 1)",
     "output_type": "error",
     "traceback": [
      "\u001b[1;36m  File \u001b[1;32m\"<ipython-input-1-0f3c77528c35>\"\u001b[1;36m, line \u001b[1;32m1\u001b[0m\n\u001b[1;33m    for = 40\u001b[0m\n\u001b[1;37m        ^\u001b[0m\n\u001b[1;31mSyntaxError\u001b[0m\u001b[1;31m:\u001b[0m invalid syntax\n"
     ]
    }
   ],
   "source": [
    "for = 40\n",
    "print(for)"
   ]
  },
  {
   "cell_type": "code",
   "execution_count": null,
   "metadata": {},
   "outputs": [],
   "source": [
    "Q12. What is indentation? What is the use of indentation in Python?\n",
    "\n",
    "Ans : Indentation refers to spaces at the beginning of a code line.\n",
    "    Uses of indentation in Python :\n",
    "        1. To indicate a block of code.\n",
    "        2. For better readability of code.\n",
    "        \n",
    "\n",
    "\n",
    "Q13. How can we throw some output in Python?\n",
    "\n",
    "Ans : We can use print() in python to get the output.\n",
    "    for example :"
   ]
  },
  {
   "cell_type": "code",
   "execution_count": 2,
   "metadata": {},
   "outputs": [
    {
     "name": "stdout",
     "output_type": "stream",
     "text": [
      "Ashutosh\n"
     ]
    }
   ],
   "source": [
    "name = \"Ashutosh\"\n",
    "print(name)"
   ]
  },
  {
   "cell_type": "code",
   "execution_count": null,
   "metadata": {},
   "outputs": [],
   "source": [
    "\n",
    "Q14. What are operators in Python?\n",
    "\n",
    "Ans : Operators are special symbols in Python that performs arithmetic or logical computation.\n",
    "    There are various types of operator and some of the are :\n",
    "        1. Arithmetic operators\n",
    "        2. Comparison operators\n",
    "        3. Logical operators\n",
    "        4. Bitwise operators\n",
    "        5. Assignment operators"
   ]
  },
  {
   "cell_type": "code",
   "execution_count": null,
   "metadata": {},
   "outputs": [],
   "source": [
    "Q15. What is difference between / and // operators?\n",
    "\n",
    "Ans : / -> Divides left operand by the right operand and gives result as float data type.\n",
    "    // -> Floor Division, divides left operand by right operand and gives result as int data type.\n",
    "    for example :"
   ]
  },
  {
   "cell_type": "code",
   "execution_count": 3,
   "metadata": {},
   "outputs": [
    {
     "name": "stdout",
     "output_type": "stream",
     "text": [
      "2.4\n",
      "<class 'float'>\n",
      "2\n",
      "<class 'int'>\n"
     ]
    }
   ],
   "source": [
    "a = 12\n",
    "b = 5\n",
    "\n",
    "print(a/b)\n",
    "print(type(a/b))\n",
    "\n",
    "print(a//b)\n",
    "print(type(a//b))"
   ]
  },
  {
   "cell_type": "code",
   "execution_count": 1,
   "metadata": {},
   "outputs": [
    {
     "name": "stdout",
     "output_type": "stream",
     "text": [
      "iNeuroniNeuroniNeuroniNeuron\n"
     ]
    }
   ],
   "source": [
    "\n",
    "#Q16. Write a code that gives following as an output.\n",
    "#```\n",
    "#iNeuroniNeuroniNeuroniNeuron\n",
    "#```\n",
    "#Solution :\n",
    "\n",
    "name = 'iNeuron'\n",
    "print(name*4)\n"
   ]
  },
  {
   "cell_type": "code",
   "execution_count": 8,
   "metadata": {},
   "outputs": [
    {
     "name": "stdout",
     "output_type": "stream",
     "text": [
      "Enter a number :23\n",
      "Odd number\n"
     ]
    }
   ],
   "source": [
    "# Q17. Write a code to take a number as an input from the user and check if the number is odd or even.\n",
    "\n",
    "# Solution :\n",
    "\n",
    "num = int(input(\"Enter a number :\"))\n",
    "if num%2 == 0:\n",
    "    print(\"Even number\")\n",
    "else:\n",
    "    print(\"Odd number\")"
   ]
  },
  {
   "cell_type": "raw",
   "metadata": {},
   "source": [
    "Q18. What are boolean operator?\n",
    "\n",
    "Ans : Boolean operators are those that take boolean inputs and return Boolean result.\n",
    "     Example of boolean operators are :\n",
    "         1. and\n",
    "         2. or\n",
    "         3. not"
   ]
  },
  {
   "cell_type": "code",
   "execution_count": 10,
   "metadata": {},
   "outputs": [
    {
     "name": "stdout",
     "output_type": "stream",
     "text": [
      "Value of 1 or 0 : 1\n",
      "Value of 0 and 0 : 0\n",
      "Value of True and False and True : False\n",
      "Value of 1 or 0 or 0 : 1\n"
     ]
    }
   ],
   "source": [
    "# Q19. What will the output of the following?\n",
    "# ```\n",
    "# 1 or 0\n",
    "Ans : 1\n",
    "    \n",
    "# 0 and 0\n",
    "Ans : 0\n",
    "    \n",
    "# True and False and True\n",
    "Ans : False\n",
    "# 1 or 0 or 0\n",
    "Ans : 1\n",
    "# ```\n",
    "\n",
    "print('Value of 1 or 0 :', 1 or 0)\n",
    "\n",
    "print('Value of 0 and 0 :', 0 and 0)\n",
    "\n",
    "print('Value of True and False and True :', True and False and True)\n",
    "\n",
    "print('Value of 1 or 0 or 0 :', 1 or 0 or 0)"
   ]
  },
  {
   "cell_type": "code",
   "execution_count": null,
   "metadata": {},
   "outputs": [],
   "source": [
    "Q20. What are conditional statements in Python?\n",
    "\n",
    "Ans : Conditional statement in Python perform different computations or actions depending on whether a specific boolean\n",
    "    constraint evaluates to True or False and it is a decision making statement in Python programming.\n",
    "    In Python conditional statements are :\n",
    "        1. if statement\n",
    "        2. if-else statement\n",
    "        3. if-elif statement\n",
    " \n",
    "\n",
    "Q21. What is use of 'if', 'elif' and 'else' keywords?\n",
    "\n",
    "Ans : The if, elif and else keywords are used for conditional and decision making statements. It is a structured way to \n",
    "    control the flow of a program."
   ]
  },
  {
   "cell_type": "code",
   "execution_count": 13,
   "metadata": {},
   "outputs": [
    {
     "name": "stdout",
     "output_type": "stream",
     "text": [
      "Enter your Age :22\n",
      "I can vote\n"
     ]
    }
   ],
   "source": [
    "# Q22. Write a code to take the age of person as an input and if age >= 18 display \"I can vote\". \n",
    "# If age is < 18 display \"I can't vote\".\n",
    "\n",
    "# Solution :\n",
    "\n",
    "age = int(input(\"Enter your Age :\"))\n",
    "if age>=18 :\n",
    "    print(\"I can vote\")\n",
    "else:\n",
    "    print(\"I can't vote\")"
   ]
  },
  {
   "cell_type": "code",
   "execution_count": 14,
   "metadata": {},
   "outputs": [
    {
     "name": "stdout",
     "output_type": "stream",
     "text": [
      "392\n"
     ]
    }
   ],
   "source": [
    "# Q23. Write a code that displays the sum of all the even numbers from the given list.\n",
    "# ```\n",
    "# numbers = [12, 75, 150, 180, 145, 525, 50]\n",
    "# ```\n",
    "\n",
    "# Solution :\n",
    "\n",
    "numbers = [12, 75, 150, 180, 145, 525, 50]\n",
    "sum_even = 0\n",
    "for num in numbers:\n",
    "    if num%2 == 0 :\n",
    "        sum_even += num\n",
    "print(sum_even)"
   ]
  },
  {
   "cell_type": "code",
   "execution_count": 5,
   "metadata": {},
   "outputs": [
    {
     "name": "stdout",
     "output_type": "stream",
     "text": [
      "Enter 1st number :152\n",
      "Enter 2nd number :22\n",
      "Enter 3rd number :99\n",
      "152\n"
     ]
    }
   ],
   "source": [
    "# Q24. Write a code to take 3 numbers as an input from the user and display the greatest no as output.\n",
    "\n",
    "# Solution :\n",
    "\n",
    "# marks = list(map(int, input(\"Enter mark of diff subjects: \").split()))\n",
    "# print(max(marks))\n",
    "# type(marks)\n",
    "\n",
    "num1 = int(input(\"Enter 1st number :\"))\n",
    "num2 = int(input(\"Enter 2nd number :\"))\n",
    "num3 = int(input(\"Enter 3rd number :\"))\n",
    "print(max(num1,num2,num3))"
   ]
  },
  {
   "cell_type": "code",
   "execution_count": 9,
   "metadata": {},
   "outputs": [
    {
     "name": "stdout",
     "output_type": "stream",
     "text": [
      "75\n",
      "150\n",
      "145\n"
     ]
    }
   ],
   "source": [
    "# Q25. Write a program to display only those numbers from a list that satisfy the following conditions- \n",
    "# The number must be divisible by five-if the number is greater than 150, then skip it and move to the next number- \n",
    "# If the number is greater than 500, then stop the loop\n",
    "# ```\n",
    "# numbers = [12, 75, 150, 180, 145, 525, 50]\n",
    "# ```\n",
    "\n",
    "# Solution :\n",
    "\n",
    "numbers = [12, 75, 150, 180, 145, 525, 50]\n",
    "for num in numbers:\n",
    "    if num%5 == 0:\n",
    "        if num > 150 and num <= 500:\n",
    "            continue\n",
    "        elif num > 500:\n",
    "            break\n",
    "        else:\n",
    "            print(num)\n",
    "\n",
    "#     if num > 500:\n",
    "#         break\n",
    "#     elif num >150:\n",
    "#         continue\n",
    "#     elif num%5 == 0:\n",
    "#         print(num)\n"
   ]
  },
  {
   "cell_type": "code",
   "execution_count": null,
   "metadata": {
    "collapsed": true
   },
   "outputs": [],
   "source": [
    "Q26. What is a string? How can we declare string in Python?\n",
    "\n",
    "Ans : Strings are arrays of bytes representing unicode characters.\n",
    "    We can declare a string in Python by enclosing sequence of characters either single quotes, double quotes or triple\n",
    "    quotes and then assign it to a variable.\n",
    "    for example :"
   ]
  },
  {
   "cell_type": "code",
   "execution_count": 2,
   "metadata": {},
   "outputs": [
    {
     "name": "stdout",
     "output_type": "stream",
     "text": [
      "<class 'str'>\n",
      "Ashutosh\n"
     ]
    }
   ],
   "source": [
    "name = \"Ashutosh\"\n",
    "print(type(name))\n",
    "print(name)"
   ]
  },
  {
   "cell_type": "code",
   "execution_count": null,
   "metadata": {},
   "outputs": [],
   "source": [
    "Q27. How can we access the string using its index?\n",
    "\n",
    "Ans : We can access the string by specifying string name followed by an index in square brackets.\n",
    "    In Python index starts from zero(0).\n",
    "    for example :"
   ]
  },
  {
   "cell_type": "code",
   "execution_count": 4,
   "metadata": {},
   "outputs": [
    {
     "name": "stdout",
     "output_type": "stream",
     "text": [
      "A\n"
     ]
    }
   ],
   "source": [
    "name = \"Ashutosh Kumar Jha\"\n",
    "print(name[0])"
   ]
  },
  {
   "cell_type": "code",
   "execution_count": 7,
   "metadata": {},
   "outputs": [
    {
     "name": "stdout",
     "output_type": "stream",
     "text": [
      "iNeuron\n"
     ]
    }
   ],
   "source": [
    "# Q28. Write a code to get the desired output of the following\n",
    "\n",
    "# string = \"Big Data iNeuron\"\n",
    "# desired_output = \"iNeuron\"\n",
    "\n",
    "# Solution :\n",
    "\n",
    "string = \"Big Data iNeuron\"\n",
    "# a = string.split()\n",
    "# print(a[-1])\n",
    "print(string[-len(\"iNeuron\"):])"
   ]
  },
  {
   "cell_type": "code",
   "execution_count": 11,
   "metadata": {},
   "outputs": [
    {
     "name": "stdout",
     "output_type": "stream",
     "text": [
      "norueNi\n"
     ]
    }
   ],
   "source": [
    "# Q29. Write a code to get the desired output of the following\n",
    "\n",
    "# string = \"Big Data iNeuron\"\n",
    "# desired_output = \"norueNi\"\n",
    "\n",
    "# Solution :\n",
    "\n",
    "string = \"Big Data iNeuron\"\n",
    "print(string[-1:-(len(\"iNeuron\")+1):-1])"
   ]
  },
  {
   "cell_type": "code",
   "execution_count": 12,
   "metadata": {},
   "outputs": [
    {
     "name": "stdout",
     "output_type": "stream",
     "text": [
      "norueNi ataD giB\n"
     ]
    }
   ],
   "source": [
    "# Q30. Resverse the string given in the above question.\n",
    "# string = \"Big Data iNeuron\"\n",
    "\n",
    "# Solution:\n",
    "    \n",
    "string = \"Big Data iNeuron\"\n",
    "print(string[::-1])"
   ]
  },
  {
   "cell_type": "code",
   "execution_count": null,
   "metadata": {},
   "outputs": [],
   "source": [
    "Q31. How can you delete entire string at once?\n",
    "\n",
    "Ans : We can delete entire string at once using del keyword in Python.\n",
    "    Syntax :\n",
    "        del str_Variable_Name\n",
    "        \n",
    "Q32. What is escape sequence?\n",
    "\n",
    "Ans : An escape sequence is a sequence of characters that, when used inside a character or string, does not represent\n",
    "    itself but is converted into another charcater or series of characters."
   ]
  },
  {
   "cell_type": "code",
   "execution_count": 15,
   "metadata": {},
   "outputs": [
    {
     "name": "stdout",
     "output_type": "stream",
     "text": [
      "'iNeuron's Big Data Course'\n"
     ]
    }
   ],
   "source": [
    "# Q33. How can you print the below string?\n",
    "\n",
    "# 'iNeuron's Big Data Course'\n",
    "\n",
    "# Solution :\n",
    "\n",
    "string = \"\\'iNeuron\\'s Big Data Course\\'\"\n",
    "print(string)"
   ]
  },
  {
   "cell_type": "code",
   "execution_count": null,
   "metadata": {},
   "outputs": [],
   "source": [
    "Q34. What is a list in Python?\n",
    "\n",
    "Ans: A Python list is an ordered and changeable collection of data object. A list can contain items of different data\n",
    "    types.\n",
    "    lst1 = [1, 2, \"Ashu\", 2.35]\n",
    "\n",
    "Q35. How can you create a list in Python?\n",
    "\n",
    "Ans : To create a list in Python, we can use following methods :\n",
    "        1. list1 = [\"Ashutosh\", \"Jha\", \"iNeuron\", 2022]\n",
    "        2. list2 = list(\"String only\")\n",
    "        \n",
    "Q36. How can we access the elements in a list?\n",
    "\n",
    "Ans : We can access a list in Python using its index and in Python index starts from 0.\n",
    "    Syntax :\n",
    "        list_name[index]"
   ]
  },
  {
   "cell_type": "code",
   "execution_count": 20,
   "metadata": {},
   "outputs": [
    {
     "name": "stdout",
     "output_type": "stream",
     "text": [
      "iNeuron\n"
     ]
    }
   ],
   "source": [
    "# Q37. Write a code to access the word \"iNeuron\" from the given list.\n",
    "\n",
    "# lst = [1,2,3,\"Hi\",[45,54, \"iNeuron\"], \"Big Data\"]\n",
    "\n",
    "# Solution :\n",
    "\n",
    "lst = [1,2,3,\"Hi\",[45,54, \"iNeuron\"], \"Big Data\"]\n",
    "\n",
    "#Storing into a variable and than printing the data\n",
    "# req_data = lst[4][2]\n",
    "# print(req_data)\n",
    "\n",
    "# Direct Method\n",
    "print(lst[4][2])"
   ]
  },
  {
   "cell_type": "code",
   "execution_count": 23,
   "metadata": {},
   "outputs": [
    {
     "name": "stdout",
     "output_type": "stream",
     "text": [
      "Enter the desired data :Ashu 1998\n",
      "9\n",
      "['A', 's', 'h', 'u', ' ', '1', '9', '9', '8']\n"
     ]
    }
   ],
   "source": [
    "# Q38. Take a list as an input from the user and find the length of the list.\n",
    "\n",
    "# Solution :\n",
    "\n",
    "input_lst = list(input(\"Enter the desired data :\"))\n",
    "print(len(input_lst))\n",
    "print(input_lst)"
   ]
  },
  {
   "cell_type": "code",
   "execution_count": 25,
   "metadata": {},
   "outputs": [
    {
     "name": "stdout",
     "output_type": "stream",
     "text": [
      "['Welcome', 'to', 'Big', 'Data', 'course']\n"
     ]
    }
   ],
   "source": [
    "# Q39. Add the word \"Big\" in the 3rd index of the given list.\n",
    "\n",
    "# lst = [\"Welcome\", \"to\", \"Data\", \"course\"]\n",
    "\n",
    "# Solution :\n",
    "\n",
    "lst = [\"Welcome\", \"to\", \"Data\", \"course\"]\n",
    "lst.insert(2, \"Big\")                   # 3rd index is 2\n",
    "print(lst)"
   ]
  },
  {
   "cell_type": "code",
   "execution_count": null,
   "metadata": {},
   "outputs": [],
   "source": [
    "Q40. What is a tuple? How is it different from list?\n",
    "\n",
    "Ans : A Python tuple is an ordered and non-changeable collection of data object. A tuple can contain items of different \n",
    "    data types.\n",
    "    A list is mutable(changeable) collection of data but a tuple is immutable(non-changeable) collection of data.\n",
    "\n",
    "\n",
    "Q41. How can you create a tuple in Python?\n",
    "\n",
    "Ans : We can create a tuple in Python by placing a sequence of value separated by 'comma' with or without the use of \n",
    "    parentheses for grouping the data sequence.\n",
    "    example :\n",
    "        tuple1 = (\"Ashu\", 2023, \"Data Engineer\")"
   ]
  },
  {
   "cell_type": "code",
   "execution_count": 30,
   "metadata": {},
   "outputs": [
    {
     "ename": "TypeError",
     "evalue": "can only concatenate tuple (not \"str\") to tuple",
     "output_type": "error",
     "traceback": [
      "\u001b[1;31m---------------------------------------------------------------------------\u001b[0m",
      "\u001b[1;31mTypeError\u001b[0m                                 Traceback (most recent call last)",
      "\u001b[1;32m<ipython-input-30-56d1c414e614>\u001b[0m in \u001b[0;36m<module>\u001b[1;34m\u001b[0m\n\u001b[0;32m      2\u001b[0m \u001b[1;33m\u001b[0m\u001b[0m\n\u001b[0;32m      3\u001b[0m \u001b[0mt1\u001b[0m \u001b[1;33m=\u001b[0m \u001b[1;33m(\u001b[0m\u001b[1;36m1\u001b[0m\u001b[1;33m,\u001b[0m \u001b[1;36m2\u001b[0m\u001b[1;33m,\u001b[0m \u001b[1;36m5\u001b[0m\u001b[1;33m,\u001b[0m \u001b[1;34m\"Data\"\u001b[0m\u001b[1;33m)\u001b[0m\u001b[1;33m\u001b[0m\u001b[1;33m\u001b[0m\u001b[0m\n\u001b[1;32m----> 4\u001b[1;33m \u001b[0mprint\u001b[0m\u001b[1;33m(\u001b[0m\u001b[0mt1\u001b[0m \u001b[1;33m+\u001b[0m \u001b[1;34m\"Ashutosh\"\u001b[0m\u001b[1;33m)\u001b[0m\u001b[1;33m\u001b[0m\u001b[1;33m\u001b[0m\u001b[0m\n\u001b[0m",
      "\u001b[1;31mTypeError\u001b[0m: can only concatenate tuple (not \"str\") to tuple"
     ]
    }
   ],
   "source": [
    "Q42. Create a tuple and try to add your name in the tuple. Are you able to do it? Support your answer with reason.\n",
    "\n",
    "Ans : No, I am not able to add my name to it. We can not do this because tuple is an immutable data type and in case of\n",
    "    concatinatio it creates a new tuple and in Python we can concatenate a tuple only with another tuple.\n",
    "    \n",
    "t1 = (1, 2, 5, \"Data\")\n",
    "print(t1 + \"Ashutosh\")"
   ]
  },
  {
   "cell_type": "code",
   "execution_count": null,
   "metadata": {},
   "outputs": [],
   "source": [
    "Q43. Can two tuple be appended. If yes, write a code for it. If not, why?\n",
    "\n",
    "Ans : No, two tuple can not be appended. Since, tuple is immutable i.e we can not change the data present in a tuple, that\n",
    "    is why we can not append two tuples.\n",
    "    But we can concatenate two tuple and in this manner a new tuple will be formed.\n",
    "    for example:\n",
    "        tup3 = tup1 + tup2"
   ]
  },
  {
   "cell_type": "code",
   "execution_count": 31,
   "metadata": {},
   "outputs": [
    {
     "name": "stdout",
     "output_type": "stream",
     "text": [
      "Enter the string : ashutosh kumar\n",
      "14\n"
     ]
    }
   ],
   "source": [
    "# Q44. Take a tuple as an input and print the count of elements in it.\n",
    "\n",
    "# Solution :\n",
    "\n",
    "tup = tuple(input(\"Enter the string : \"))\n",
    "print(len(tup))"
   ]
  },
  {
   "cell_type": "code",
   "execution_count": null,
   "metadata": {},
   "outputs": [],
   "source": [
    "Q45. What are sets in Python?\n",
    "\n",
    "Ans : Set is an unordered collection of items, where every element is unique and immutable, but the set as a whole is\n",
    "    mutable.\n",
    "    \n",
    "\n",
    "Q46. How can you create a set?\n",
    "\n",
    "Ans : We can create a set using these two methods :\n",
    "    1. Putting all the elements inside a curly braces \"{Elements}\"\n",
    "    2. Using set() method."
   ]
  },
  {
   "cell_type": "code",
   "execution_count": 35,
   "metadata": {},
   "outputs": [
    {
     "name": "stdout",
     "output_type": "stream",
     "text": [
      "{'iNeuron'}\n"
     ]
    }
   ],
   "source": [
    "# Q47. Create a set and add \"iNeuron\" in your set.\n",
    "\n",
    "# Solution :\n",
    "\n",
    "set1 = set()\n",
    "set1.add(\"iNeuron\")\n",
    "print(set1)"
   ]
  },
  {
   "cell_type": "code",
   "execution_count": 37,
   "metadata": {},
   "outputs": [
    {
     "ename": "TypeError",
     "evalue": "add() takes exactly one argument (2 given)",
     "output_type": "error",
     "traceback": [
      "\u001b[1;31m---------------------------------------------------------------------------\u001b[0m",
      "\u001b[1;31mTypeError\u001b[0m                                 Traceback (most recent call last)",
      "\u001b[1;32m<ipython-input-37-2688532099d4>\u001b[0m in \u001b[0;36m<module>\u001b[1;34m\u001b[0m\n\u001b[0;32m      6\u001b[0m \u001b[1;31m#set1.add(\"Ashu\", 23)\u001b[0m\u001b[1;33m\u001b[0m\u001b[1;33m\u001b[0m\u001b[1;33m\u001b[0m\u001b[0m\n\u001b[0;32m      7\u001b[0m \u001b[1;33m\u001b[0m\u001b[0m\n\u001b[1;32m----> 8\u001b[1;33m \u001b[0mset2\u001b[0m\u001b[1;33m.\u001b[0m\u001b[0madd\u001b[0m\u001b[1;33m(\u001b[0m\u001b[1;36m22\u001b[0m\u001b[1;33m,\u001b[0m \u001b[1;36m25\u001b[0m\u001b[1;33m)\u001b[0m\u001b[1;33m\u001b[0m\u001b[1;33m\u001b[0m\u001b[0m\n\u001b[0m",
      "\u001b[1;31mTypeError\u001b[0m: add() takes exactly one argument (2 given)"
     ]
    }
   ],
   "source": [
    "# Q48. Try to add multiple values using add() function.\n",
    "\n",
    "# Solution :\n",
    "\n",
    "set2 = {1,2,5}\n",
    "#set1.add(\"Ashu\", 23)\n",
    "\n",
    "set2.add(22, 25)    # we can't add multiple elements using add()"
   ]
  },
  {
   "cell_type": "code",
   "execution_count": null,
   "metadata": {},
   "outputs": [],
   "source": [
    "Q49. How is update() different from add()?\n",
    "\n",
    "Ans : update() is used to add multiple elements to a set, while add() is used to add one element to a set.\n",
    "    syntax :\n",
    "        set_name.update(elements)\n",
    "    for example :"
   ]
  },
  {
   "cell_type": "code",
   "execution_count": 47,
   "metadata": {},
   "outputs": [
    {
     "name": "stdout",
     "output_type": "stream",
     "text": [
      "{1, 2, 5, 78, 47}\n"
     ]
    }
   ],
   "source": [
    "set2 = {1,2,5}\n",
    "set2.update([47, 78])\n",
    "print(set2)"
   ]
  },
  {
   "cell_type": "code",
   "execution_count": null,
   "metadata": {},
   "outputs": [],
   "source": [
    "Q50. What is clear() in sets?\n",
    "\n",
    "Ans : The clear() method is used to remove all the items present is a set.\n",
    "    syntax :\n",
    "        set_name.clear()\n",
    "        \n",
    "        \n",
    "Q51. What is frozen set?\n",
    "\n",
    "Ans : A frozen set in Python is a set whose values cannot be modified i.e. it is immutable. Due to this, frozen set can be\n",
    "    used as keys in dictionary or as elements of another set.\n",
    "    \n",
    "    \n",
    "Q52. How is frozen set different from set?\n",
    "\n",
    "Ans : We cannot modify the value of a frozen set while we can modify the value of a set.\n",
    "    \n",
    "    \n",
    "Q53. What is union() in sets? Explain via code.\n",
    "\n",
    "Ans : union() method return a new set which contains all the items of original set such that no element is repeated.\n",
    "    Syntax :\n",
    "        set1.union(set2, set3, ...)\n",
    "    for example :\n",
    "        "
   ]
  },
  {
   "cell_type": "code",
   "execution_count": 50,
   "metadata": {},
   "outputs": [
    {
     "name": "stdout",
     "output_type": "stream",
     "text": [
      "{'Ashu', 1, 2, 5, 8, 'Data', 46, 'Engineer', 22, 23, 89}\n"
     ]
    }
   ],
   "source": [
    "setA = {1, 2, 5, 8}\n",
    "setB = {\"Ashu\", 23, \"Data\", \"Engineer\"}\n",
    "setC = {22, 46, 89, 1, 5}\n",
    "#print(setA.union(setB, setC))      Direct Method\n",
    "\n",
    "set_union = setA.union(setB, setC)\n",
    "print(set_union)"
   ]
  },
  {
   "cell_type": "code",
   "execution_count": null,
   "metadata": {},
   "outputs": [],
   "source": [
    "Q54. What is intersection() in sets? Explain via code.\n",
    "\n",
    "Ans : set intersection() method returns a new set with elements that is common to all set.\n",
    "    Syntax :\n",
    "        set1.intersection(set2, set3, ...)\n",
    "    for example :"
   ]
  },
  {
   "cell_type": "code",
   "execution_count": 54,
   "metadata": {},
   "outputs": [
    {
     "name": "stdout",
     "output_type": "stream",
     "text": [
      "set()\n",
      "{1, 5}\n"
     ]
    }
   ],
   "source": [
    "# in case if common element is not present it will return empty set.\n",
    "setA = {1, 2, 5, 8}\n",
    "setB = {\"Ashu\", 23, \"Data\", \"Engineer\"}\n",
    "setC = {22, 46, 89, 1, 5}\n",
    "#print(setA.intersection(setB, setC))      Direct Method\n",
    "\n",
    "set_intersection = setA.intersection(setB, setC)\n",
    "print(set_intersection)\n",
    "\n",
    "\n",
    "setA = {1, 2, 5, 8}\n",
    "setB = {\"Ashu\", 23, \"Data\", \"Engineer\", 1, 5}\n",
    "setC = {22, 46, 89, 1, 5}\n",
    "#print(setA.intersection(setB, setC))      Direct Method\n",
    "\n",
    "set_intersection = setA.intersection(setB, setC)\n",
    "print(set_intersection)"
   ]
  },
  {
   "cell_type": "code",
   "execution_count": null,
   "metadata": {},
   "outputs": [],
   "source": [
    "Q55. What is dictionary in Python?\n",
    "\n",
    "Ans : A dictionary is a collection of data which is ordered(from Python 3.7 and above), changeable and do not allow\n",
    "    dublicate key. Dictionary is used to store data in \"key:value\" pairs.\n",
    "    \n",
    "    \n",
    "Q56. How is dictionary different from all other data structures.\n",
    "\n",
    "Ans : In following ways a dictionary is different from other data structures :\n",
    "    1. Dictionary is collection of elements in \"key:value\" pair.\n",
    "    2. The Key should be unique.\n",
    "    \n",
    "    \n",
    "Q57. How can we delare a dictionary in Python?\n",
    "\n",
    "Ans : We can declare a dictionary in following ways in Python :\n",
    "    1. dict1 = {}\n",
    "    2. dict2 = dict()"
   ]
  },
  {
   "cell_type": "code",
   "execution_count": 55,
   "metadata": {},
   "outputs": [
    {
     "name": "stdout",
     "output_type": "stream",
     "text": [
      "<class 'dict'>\n"
     ]
    }
   ],
   "source": [
    "# Q58. What will the output of the following?\n",
    "\n",
    "# var = {}\n",
    "# print(type(var))\n",
    "\n",
    "# Solution : dictionary\n",
    "    \n",
    "var = {}\n",
    "print(type(var))"
   ]
  },
  {
   "cell_type": "code",
   "execution_count": 56,
   "metadata": {},
   "outputs": [
    {
     "name": "stdout",
     "output_type": "stream",
     "text": [
      "{'name': 'Ashutosh', 'wp': 'Yes', 'De': 2023}\n"
     ]
    }
   ],
   "source": [
    "# Q59. How can we add an element in a dictionary?\n",
    "\n",
    "# Ans : We can add an element in a dictionary with the help of its Keys.\n",
    "#     for example :\n",
    "\n",
    "dict1 = {\"name\":\"Ashutosh\", \"wp\":\"Yes\"}\n",
    "dict1[\"De\"] = 2023\n",
    "print(dict1)"
   ]
  },
  {
   "cell_type": "code",
   "execution_count": 59,
   "metadata": {},
   "outputs": [
    {
     "name": "stdout",
     "output_type": "stream",
     "text": [
      "('name', 'Ashutosh')\n",
      "('wp', 'Yes')\n"
     ]
    }
   ],
   "source": [
    "# Q60. Create a dictionary and access all the values in that dictionary.\n",
    "\n",
    "# Solution :\n",
    "\n",
    "dict1 = {\"name\":\"Ashutosh\", \"wp\":\"Yes\"}\n",
    "for item in dict1.items():\n",
    "    print(item)"
   ]
  },
  {
   "cell_type": "code",
   "execution_count": 60,
   "metadata": {},
   "outputs": [
    {
     "name": "stdout",
     "output_type": "stream",
     "text": [
      "{'total_student': 42, 'Avg_marks': 77}\n",
      "{'total_student': 38, 'Avg_marks': 83}\n"
     ]
    }
   ],
   "source": [
    "# Q61. Create a nested dictionary and access all the element in the inner dictionary.\n",
    "\n",
    "# Solution :\n",
    "\n",
    "nest_dict = {\"class\":{\"sixth\":{\"total_student\":42, \"Avg_marks\":77}, \"seventh\":{\"total_student\":38, \"Avg_marks\":83}}, \"Teacher\":[\"Aman\", \"Ram\", \"Neha\"]}\n",
    "print(nest_dict['class'][\"sixth\"])\n",
    "print(nest_dict[\"class\"][\"seventh\"])"
   ]
  },
  {
   "cell_type": "code",
   "execution_count": null,
   "metadata": {},
   "outputs": [],
   "source": [
    "Q62. What is the use of get() function?\n",
    "\n",
    "Ans : The get() method returns the value of the item with specified key. If Key is Not present in dictionary, by default\n",
    "    it will give else give us the optional value.\n",
    "    Syntax :\n",
    "        dictionary_name.get(\"Key\", optional_value)\n",
    "        \n",
    "        \n",
    "Q63. What is the use of items() function?\n",
    "\n",
    "Ans : item() function is used to return the list with all dictionary keys with values.\n",
    "    Synatx :\n",
    "        dictionary_name.items()\n",
    "    for example :"
   ]
  },
  {
   "cell_type": "code",
   "execution_count": 61,
   "metadata": {},
   "outputs": [
    {
     "name": "stdout",
     "output_type": "stream",
     "text": [
      "dict_items([('class', {'sixth': {'total_student': 42, 'Avg_marks': 77}, 'seventh': {'total_student': 38, 'Avg_marks': 83}}), ('Teacher', ['Aman', 'Ram', 'Neha'])])\n"
     ]
    }
   ],
   "source": [
    "nest_dict = {\"class\":{\"sixth\":{\"total_student\":42, \"Avg_marks\":77}, \"seventh\":{\"total_student\":38, \"Avg_marks\":83}}, \"Teacher\":[\"Aman\", \"Ram\", \"Neha\"]}\n",
    "print(nest_dict.items())"
   ]
  },
  {
   "cell_type": "code",
   "execution_count": null,
   "metadata": {},
   "outputs": [],
   "source": [
    "Q64. What is the use of pop() function?\n",
    "\n",
    "Ans : pop() function is used to remove and return the element present at a specific index in a list. If index is not given\n",
    "    as argument it will remove and return the last element.\n",
    "    Synatx :\n",
    "        list_name.pop(index)\n",
    "        \n",
    "        \n",
    "Q65. What is the use of popitems() function?\n",
    "\n",
    "Ans : Python dictionary popitem() method removes the last insereted \"Key, value\" pair from dictionary and return it as \n",
    "    a tuple.\n",
    "    Syntax :\n",
    "        dictionary_name.popitem()\n",
    "        \n",
    "\n",
    "Q66. What is the use of keys() function?\n",
    "\n",
    "Ans : keys() method returns a list of all the keys present in a dictionary as view object.\n",
    "    Syntax :\n",
    "        dictionary_name.keys()\n",
    "        \n",
    "        \n",
    "Q67. What is the use of values() function?\n",
    "\n",
    "Ans : values() method returns a list of all the values present in a dictionary as view object.\n",
    "    Syntax :\n",
    "        dictionary_name.values()\n",
    "        \n",
    "        \n",
    "Q68. What are loops in Python?\n",
    "\n",
    "Ans : Looping means repeating something over and over until a particular condition is satisfied.\n",
    "    \n",
    "    \n",
    "Q69. How many type of loop are there in Python?\n",
    "\n",
    "Ans : There are two types of loop in Python.\n",
    "    1. for loop\n",
    "    2. while loop\n",
    "    \n",
    "    \n",
    "Q70. What is the difference between for and while loops?\n",
    "\n",
    "Ans :1. We use for loop when number of iterations is already known and a while loop is used when number of iterations are\n",
    "    unknown.\n",
    "    2. In for loop initialization is done only once and not repeated but in while loop initialization is repeated for \n",
    "    every iteration.\n",
    "    3. for loop is faster than while loop.\n",
    "    \n",
    "    \n",
    "Q71. What is the use of continue statement?\n",
    "\n",
    "Ans : The continue statement skips the current iteration inside the loop and continues with the next iteration.\n",
    "    \n",
    "    \n",
    "Q72. What is the use of break statement?\n",
    "\n",
    "Ans : The break statement terminates the loop immediately and the program control resumes at next statement.\n",
    "    \n",
    "\n",
    "Q73. What is the use of pass statement?\n",
    "\n",
    "Ans : pass is a null statement, used as a placeholder for future code.\n",
    "\n",
    "\n",
    "Q74. What is the use of range() function?\n",
    "\n",
    "Ans : The range() function returns a sequence of numbers in a given range. It is used to iterate over a series of values\n",
    "    in a for loop.\n",
    "    Syntax :\n",
    "        range(start, stop, step)\n",
    "    Note : start & step is optional.\n",
    "        \n",
    "        \n",
    "Q75. How can you loop over a dictionary?\n",
    "\n",
    "Ans : We can loop over a dictionary using keys(), values() and items() method.\n",
    "    Syntax :\n",
    "        1. To iterate through keys\n",
    "        for key in dict_name.keys():\n",
    "            print(key)\n",
    "        2. To iterate through values\n",
    "        for value in dict_name.values():\n",
    "            print(value)\n",
    "        3. To iterate through items\n",
    "        for key,value in dict_name.items():\n",
    "            print(key, value)"
   ]
  },
  {
   "cell_type": "code",
   "execution_count": 64,
   "metadata": {},
   "outputs": [
    {
     "name": "stdout",
     "output_type": "stream",
     "text": [
      "Enter the number : 0\n",
      "Factorial of 0 is 1\n"
     ]
    }
   ],
   "source": [
    "# Q76. Write a Python program to find the factorial of a given number.\n",
    "\n",
    "# Solution :\n",
    "\n",
    "def factorial(num):\n",
    "    fact = 1\n",
    "    if num == 0 or num == 1:\n",
    "        return 1\n",
    "    for i in range(2, num+1):\n",
    "        fact *= i\n",
    "    return fact\n",
    "\n",
    "fact_num = int(input(\"Enter the number : \"))\n",
    "print(f\"Factorial of {fact_num} is {factorial(fact_num)}\")"
   ]
  },
  {
   "cell_type": "code",
   "execution_count": 66,
   "metadata": {},
   "outputs": [
    {
     "name": "stdout",
     "output_type": "stream",
     "text": [
      "Enter principal amount : 50000\n",
      "Enter rate of interest : 6\n",
      "Enter time in years : 10\n",
      "The SI for the principal of Rs 50000 at 6 interest rate for 10 years is Rs 30000.0\n"
     ]
    }
   ],
   "source": [
    "# Q77. Write a Python program to calculate the simple interest. Formula to calculate simple interest is SI = (PRT)/100\n",
    "\n",
    "# Solution :\n",
    "\n",
    "def simpleInterest(principal, rate, time):\n",
    "    return (principal*rate*time)/100\n",
    "\n",
    "p = int(input(\"Enter principal amount : \"))\n",
    "r = int(input(\"Enter rate of interest : \"))\n",
    "t = int(input(\"Enter time in years : \"))\n",
    "print(f\"The SI for the principal of Rs {p} at {r} interest rate for {t} years is Rs {simpleInterest(p, r, t)}\")"
   ]
  },
  {
   "cell_type": "code",
   "execution_count": 68,
   "metadata": {},
   "outputs": [
    {
     "name": "stdout",
     "output_type": "stream",
     "text": [
      "Enter principal amount : 50000\n",
      "Enter rate of interest : 6\n",
      "Enter time in years : 10\n",
      "The CI for the principal of Rs 50000 at 6 interest rate for 10 years is Rs 39542.38\n"
     ]
    }
   ],
   "source": [
    "# Q78. Write a Python program to calculate the compound interest. Formula of compound interest is A = P(1+ R/100)^t - P.\n",
    "\n",
    "# Solution :\n",
    "\n",
    "def compoundInterest(principal, rate, time):\n",
    "    return (principal*(1 + rate/100)**time - principal)\n",
    "\n",
    "p = int(input(\"Enter principal amount : \"))\n",
    "r = int(input(\"Enter rate of interest : \"))\n",
    "t = int(input(\"Enter time in years : \"))\n",
    "print(f\"The CI for the principal of Rs {p} at {r} interest rate for {t} years is Rs {round(compoundInterest(p, r, t), 2)}\")"
   ]
  },
  {
   "cell_type": "code",
   "execution_count": 73,
   "metadata": {},
   "outputs": [
    {
     "name": "stdout",
     "output_type": "stream",
     "text": [
      "Enter the number : 101\n",
      "The number 101 is Prime Number\n"
     ]
    }
   ],
   "source": [
    "# Q79. Write a Python program to check if a number is prime or not.\n",
    "\n",
    "# Solution :\n",
    "\n",
    "def checkPrime(num):\n",
    "    for i in range(2, num//2 + 1):\n",
    "        if num%i == 0:\n",
    "            return \"Not a Prime Number\"\n",
    "            break\n",
    "    return \"Prime Number\"\n",
    "\n",
    "num = int(input(\"Enter the number : \"))\n",
    "print(f'The number {num} is {checkPrime(num)}')            "
   ]
  },
  {
   "cell_type": "code",
   "execution_count": 75,
   "metadata": {},
   "outputs": [
    {
     "name": "stdout",
     "output_type": "stream",
     "text": [
      "Enter the number : 22\n",
      "The number 22 is Not an armstrong number\n"
     ]
    }
   ],
   "source": [
    "# Q80. Write a Python program to check Armstrong Number.\n",
    "\n",
    "# Solution :\n",
    "\n",
    "def armstrongNumber(num):\n",
    "    str_num = str(num)\n",
    "    n = len(str_num)\n",
    "    sum_check = 0\n",
    "    for i in str_num:\n",
    "        sum_check += int(i)**n\n",
    "        \n",
    "    if sum_check == num :\n",
    "        return \"Armstrong number\"\n",
    "    else :\n",
    "        return \"Not an armstrong number\"\n",
    "    \n",
    "num1 = int(input(\"Enter the number : \"))\n",
    "print(f'The number {num1} is {armstrongNumber(num1)}')"
   ]
  },
  {
   "cell_type": "code",
   "execution_count": 82,
   "metadata": {},
   "outputs": [
    {
     "name": "stdout",
     "output_type": "stream",
     "text": [
      "Enter the number : 3\n",
      "The fibonacci of number 3 is 2\n"
     ]
    }
   ],
   "source": [
    "# Q81. Write a Python program to find the n-th Fibonacci Number.\n",
    "\n",
    "# Solution :\n",
    "\n",
    "def fibonacci(num):\n",
    "    if num < 0:\n",
    "        return \"Incorrect input\"\n",
    "    if num <= 1:\n",
    "        return num\n",
    "    return fibonacci(num-1) + fibonacci(num-2)\n",
    "\n",
    "num1 = int(input(\"Enter the number : \"))\n",
    "print(f'The fibonacci of number {num1} is {fibonacci(num1)}')"
   ]
  },
  {
   "cell_type": "code",
   "execution_count": 83,
   "metadata": {},
   "outputs": [
    {
     "name": "stdout",
     "output_type": "stream",
     "text": [
      "['Data Engineer', 5, 8, 9, 'Ashutosh', 12, 7]\n"
     ]
    }
   ],
   "source": [
    "# Q82. Write a Python program to interchange the first and last element in a list.\n",
    "\n",
    "# Solution :\n",
    "\n",
    "list1 = [7, 5, 8, 9, \"Ashutosh\", 12, \"Data Engineer\"]\n",
    "list1[0],list1[-1] = list1[-1], list1[0]\n",
    "print(list1)"
   ]
  },
  {
   "cell_type": "code",
   "execution_count": 84,
   "metadata": {},
   "outputs": [
    {
     "name": "stdout",
     "output_type": "stream",
     "text": [
      "[7, 5, 8, 'Data Engineer', 'Ashutosh', 12, 9]\n"
     ]
    }
   ],
   "source": [
    "# Q83. Write a Python program to swap two elements in a list.\n",
    "\n",
    "# Solution :\n",
    "\n",
    "list1 = [7, 5, 8, 9, \"Ashutosh\", 12, \"Data Engineer\"]\n",
    "a = list1.index(9)\n",
    "b = list1.index(\"Data Engineer\")\n",
    "list1[a], list1[b] = list1[b], list1[a]\n",
    "print(list1)"
   ]
  },
  {
   "cell_type": "code",
   "execution_count": 87,
   "metadata": {},
   "outputs": [
    {
     "name": "stdout",
     "output_type": "stream",
     "text": [
      "Enter the value of n : 4\n",
      "[99, 89, 78, 37]\n"
     ]
    }
   ],
   "source": [
    "# Q84. Write a Python program to find N largest element from a list.\n",
    "\n",
    "# Solution :\n",
    "\n",
    "list1 = [5, 7, 9, 15, 18, 37, 99,89, 6, 4, 78, 5]\n",
    "n = int(input(\"Enter the value of n : \"))\n",
    "if n > len(list1):\n",
    "    print(\"Invalid Range\")\n",
    "else :\n",
    "    list1.sort()\n",
    "    print(list1[-1:-(n+1):-1])"
   ]
  },
  {
   "cell_type": "code",
   "execution_count": 88,
   "metadata": {},
   "outputs": [
    {
     "name": "stdout",
     "output_type": "stream",
     "text": [
      "372\n"
     ]
    }
   ],
   "source": [
    "# Q85. Write a Python program to find cumulative sum of a list.\n",
    "\n",
    "# Solution :\n",
    "\n",
    "list1 = [5, 7, 9, 15, 18, 37, 99,89, 6, 4, 78, 5]\n",
    "print(sum(list1))"
   ]
  },
  {
   "cell_type": "code",
   "execution_count": 89,
   "metadata": {},
   "outputs": [
    {
     "name": "stdout",
     "output_type": "stream",
     "text": [
      "Enter the string : 121\n",
      "Yes, the string is palindrome.\n"
     ]
    }
   ],
   "source": [
    "# Q86. Write a Python program to check if a string is palindrome or not.\n",
    "\n",
    "# Solution :\n",
    "\n",
    "def isPalindrome(string):\n",
    "    if string == string[::-1]:\n",
    "        return \"Yes, the string is palindrome.\"\n",
    "    else:\n",
    "        return \"No, the string is not palindrome.\"\n",
    "    \n",
    "input_str = input(\"Enter the string : \")\n",
    "print(isPalindrome(input_str))"
   ]
  },
  {
   "cell_type": "code",
   "execution_count": 92,
   "metadata": {},
   "outputs": [
    {
     "name": "stdout",
     "output_type": "stream",
     "text": [
      "Enter the string : Ashutosh\n",
      "Enter the i'th index : 4\n",
      "Ashtosh\n"
     ]
    }
   ],
   "source": [
    "# Q87. Write a Python program to remove i'th element from a string.\n",
    "\n",
    "# Solution :\n",
    "\n",
    "string = input(\"Enter the string : \")\n",
    "i = int(input(\"Enter the i'th index : \"))\n",
    "print(string[:i-1] + string[i:])"
   ]
  },
  {
   "cell_type": "code",
   "execution_count": 93,
   "metadata": {},
   "outputs": [
    {
     "name": "stdout",
     "output_type": "stream",
     "text": [
      "Enter string : Ashutosh\n",
      "Enter substring : to\n",
      "True\n"
     ]
    }
   ],
   "source": [
    "# Q88. Write a Python program to check if a substring is present in a given string.\n",
    "\n",
    "# Solution :\n",
    "\n",
    "string = input(\"Enter string : \")\n",
    "substring = input(\"Enter substring : \")\n",
    "print(substring in string)"
   ]
  },
  {
   "cell_type": "code",
   "execution_count": 95,
   "metadata": {},
   "outputs": [
    {
     "name": "stdout",
     "output_type": "stream",
     "text": [
      "Enter the minimum length of word : 4\n",
      "Ashutosh\n",
      "going\n",
      "excellent\n",
      "Engineer\n"
     ]
    }
   ],
   "source": [
    "# Q89. Write a Python program to find words which are greater than given length k.\n",
    "\n",
    "# Solution :\n",
    "\n",
    "Words = \" Hi Ashutosh you are going to be an excellent Data Engineer\"\n",
    "k = int(input(\"Enter the minimum length of word : \"))\n",
    "for word in Words.split():\n",
    "    if len(word) > k:\n",
    "        print(word)"
   ]
  },
  {
   "cell_type": "code",
   "execution_count": 98,
   "metadata": {},
   "outputs": [
    {
     "name": "stdout",
     "output_type": "stream",
     "text": [
      "{289, 300, 310}\n"
     ]
    }
   ],
   "source": [
    "# Q90. Write a Python program to extract unquire dictionary values.\n",
    "\n",
    "# Solution :\n",
    "\n",
    "def uniqueValue(dictionary):\n",
    "    return set(dictionary.values())\n",
    "dict1 = {\"Ashutosh\":300, \"Ram\":310, \"Mohan\":289, \"Hari\":300, \"Radha\":310}\n",
    "print(uniqueValue(dict1))"
   ]
  },
  {
   "cell_type": "code",
   "execution_count": 104,
   "metadata": {},
   "outputs": [
    {
     "name": "stdout",
     "output_type": "stream",
     "text": [
      "{'Ashutosh': 300, 'Ram': 310, 'Mohan': 289, 'Hari': 300, 'Radha': 310, 'Shyamlal': 290, 'Neha': 270, 'Ashish': 275}\n"
     ]
    }
   ],
   "source": [
    "# Q91. Write a Python program to merge two dictionary.\n",
    "\n",
    "# Solution :\n",
    "\n",
    "def mergeDictionary(dict1, dict2):\n",
    "    result = {**dict1, **dict2}\n",
    "    return result\n",
    "\n",
    "dict1 = {\"Ashutosh\":300, \"Ram\":310, \"Mohan\":289, \"Hari\":300, \"Radha\":310}\n",
    "dict2 = {\"Shyamlal\":290, \"Neha\":270, \"Ashish\":275}\n",
    "print(mergeDictionary(dict1, dict2))"
   ]
  },
  {
   "cell_type": "code",
   "execution_count": 106,
   "metadata": {},
   "outputs": [
    {
     "name": "stdout",
     "output_type": "stream",
     "text": [
      "{'Sachin': 10, 'MSD': 7, 'Kohli': 18, 'Rohit': 45}\n",
      "{'Sachin': 10, 'MSD': 7, 'Kohli': 18, 'Rohit': 45}\n"
     ]
    }
   ],
   "source": [
    "# Q92. Write a Python program to convert a list of tuples into dictionary.\n",
    "\n",
    "# Input : [('Sachin', 10), ('MSD', 7), ('Kohli', 18), ('Rohit', 45)]\n",
    "# Output : {'Sachin': 10, 'MSD': 7, 'Kohli': 18, 'Rohit': 45}\n",
    "    \n",
    "# Solution :\n",
    "\n",
    "def convertToDict(list_tup, dictionary):\n",
    "    return dict(list_tup)\n",
    "\n",
    "list_tuple = [('Sachin', 10), ('MSD', 7), ('Kohli', 18), ('Rohit', 45)]\n",
    "dict1 = {}\n",
    "print(convertToDict(list_tuple, dict1))\n",
    "\n",
    "# Direct Method\n",
    "\n",
    "print(dict([('Sachin', 10), ('MSD', 7), ('Kohli', 18), ('Rohit', 45)]))"
   ]
  },
  {
   "cell_type": "code",
   "execution_count": 108,
   "metadata": {},
   "outputs": [
    {
     "name": "stdout",
     "output_type": "stream",
     "text": [
      "[(9, 729), (5, 125), (6, 216)]\n",
      "[(9, 729), (5, 125), (6, 216)]\n"
     ]
    }
   ],
   "source": [
    "# Q93. Write a Python program to create a list of tuples from given list having number and its cube in each tuple.\n",
    "\n",
    "# Input: list = [9, 5, 6]\n",
    "# Output: [(9, 729), (5, 125), (6, 216)]\n",
    "    \n",
    "# Solution :\n",
    "\n",
    "list1 = [9, 5, 6]\n",
    "# Using for loop\n",
    "lst = []\n",
    "for num in list1:\n",
    "    res = (num, num**3)\n",
    "    lst.append(res)\n",
    "print(lst)\n",
    "\n",
    "# Using List comprehension\n",
    "print([(num, num**3) for num in list1])"
   ]
  },
  {
   "cell_type": "code",
   "execution_count": 109,
   "metadata": {},
   "outputs": [
    {
     "name": "stdout",
     "output_type": "stream",
     "text": [
      "[(7, 7), (7, 8), (2, 7), (2, 8), (7, 7), (7, 2), (8, 7), (8, 2)]\n"
     ]
    }
   ],
   "source": [
    "# Q94. Write a Python program to get all combinations of 2 tuples.\n",
    "\n",
    "# Input : test_tuple1 = (7, 2), test_tuple2 = (7, 8)\n",
    "# Output : [(7, 7), (7, 8), (2, 7), (2, 8), (7, 7), (7, 2), (8, 7), (8, 2)]\n",
    "    \n",
    "# Solution :\n",
    "\n",
    "test_tuple1 = (7, 2)\n",
    "test_tuple2 = (7, 8)\n",
    "\n",
    "print([(a, b) for a in test_tuple1 for b in test_tuple2] + [(a, b) for a in test_tuple2 for b in test_tuple1])"
   ]
  },
  {
   "cell_type": "code",
   "execution_count": 113,
   "metadata": {},
   "outputs": [
    {
     "name": "stdout",
     "output_type": "stream",
     "text": [
      "[('Geeks', 8), ('for', 24), ('Geeks', 30)]\n"
     ]
    }
   ],
   "source": [
    "# Q95. Write a Python program to sort a list of tuples by second item.\n",
    "\n",
    "# Input : [('for', 24), ('Geeks', 8), ('Geeks', 30)] \n",
    "# Output : [('Geeks', 8), ('for', 24), ('Geeks', 30)]\n",
    "    \n",
    "# Solution :\n",
    "\n",
    "def sortBySecondItem(tup1):\n",
    "    tup1.sort(key = lambda x : x[1])\n",
    "    return tup1\n",
    "list1 = [('for', 24), ('Geeks', 8), ('Geeks', 30)]\n",
    "print(sortBySecondItem(list1))"
   ]
  },
  {
   "cell_type": "code",
   "execution_count": 116,
   "metadata": {},
   "outputs": [
    {
     "name": "stdout",
     "output_type": "stream",
     "text": [
      "Enter the length of pattern : 5\n",
      "* \n",
      "* * \n",
      "* * * \n",
      "* * * * \n",
      "* * * * * \n"
     ]
    }
   ],
   "source": [
    "# Q96. Write a python program to print below pattern.\n",
    "\n",
    "# * \n",
    "# * * \n",
    "# * * * \n",
    "# * * * * \n",
    "# * * * * * \n",
    "\n",
    "# Solution :\n",
    "\n",
    "sizeOfPattern = int(input(\"Enter the length of pattern : \"))\n",
    "for i in range(1, sizeOfPattern+1):\n",
    "    print('* '*i)"
   ]
  },
  {
   "cell_type": "code",
   "execution_count": 119,
   "metadata": {},
   "outputs": [
    {
     "name": "stdout",
     "output_type": "stream",
     "text": [
      "Enter the length of pattern : 5\n",
      "    *\n",
      "   **\n",
      "  ***\n",
      " ****\n",
      "*****\n"
     ]
    }
   ],
   "source": [
    "# Q97. Write a python program to print below pattern.\n",
    "\n",
    "#     *\n",
    "#    **\n",
    "#   ***\n",
    "#  ****\n",
    "# *****\n",
    "\n",
    "# Solution :\n",
    "\n",
    "sizeOfPattern = int(input(\"Enter the length of pattern : \"))\n",
    "for i in range(1, sizeOfPattern+1):\n",
    "    print(' '*(sizeOfPattern-i) + '*'*i)"
   ]
  },
  {
   "cell_type": "code",
   "execution_count": 125,
   "metadata": {},
   "outputs": [
    {
     "name": "stdout",
     "output_type": "stream",
     "text": [
      "Enter the length of pattern : 5\n",
      "     *    \n",
      "    * *   \n",
      "   * * *  \n",
      "  * * * * \n",
      " * * * * *\n"
     ]
    }
   ],
   "source": [
    "# Q98. Write a python program to print below pattern.\n",
    "\n",
    "#     * \n",
    "#    * * \n",
    "#   * * * \n",
    "#  * * * * \n",
    "# * * * * * \n",
    "\n",
    "# Solution :\n",
    "\n",
    "sizeOfPattern = int(input(\"Enter the length of pattern : \"))\n",
    "for i in range(1, sizeOfPattern+1):\n",
    "    print(' '*(sizeOfPattern-i) + ' *'*i + ' '*(sizeOfPattern-i))"
   ]
  },
  {
   "cell_type": "code",
   "execution_count": 130,
   "metadata": {},
   "outputs": [
    {
     "name": "stdout",
     "output_type": "stream",
     "text": [
      "Enter the maximum value in pattern : 5\n",
      "1 \n",
      "1 2 \n",
      "1 2 3 \n",
      "1 2 3 4 \n",
      "1 2 3 4 5 \n"
     ]
    }
   ],
   "source": [
    "# Q99. Write a python program to print below pattern.\n",
    "\n",
    "# 1 \n",
    "# 1 2 \n",
    "# 1 2 3 \n",
    "# 1 2 3 4 \n",
    "# 1 2 3 4 5\n",
    "\n",
    "# Solution :\n",
    "\n",
    "maxValue = int(input(\"Enter the maximum value in pattern : \"))\n",
    "for i in range(1, maxValue+1):\n",
    "    for j in range(1, i+1):\n",
    "        print(j, end = ' ')\n",
    "        \n",
    "    print()       #starting from new line after completing for loop \"j\" each time"
   ]
  },
  {
   "cell_type": "code",
   "execution_count": 132,
   "metadata": {},
   "outputs": [
    {
     "name": "stdout",
     "output_type": "stream",
     "text": [
      "Enter the maximum num of char in pattern : 5\n",
      "A \n",
      "B B \n",
      "C C C \n",
      "D D D D \n",
      "E E E E E \n"
     ]
    }
   ],
   "source": [
    "# Q100. Write a python program to print below pattern.\n",
    "\n",
    "# A \n",
    "# B B \n",
    "# C C C \n",
    "# D D D D \n",
    "# E E E E E \n",
    "\n",
    "# Solution :\n",
    "\n",
    "maxChar = int(input(\"Enter the maximum num of char in pattern : \"))\n",
    "num = 65   # ASCII value of \"A\"\n",
    "\n",
    "for i in range(1, maxChar+1):\n",
    "    for j in range(1, i+1):\n",
    "        print(chr(num), end = ' ')\n",
    "        \n",
    "    num += 1        # incrementing ASCII value\n",
    "    print()"
   ]
  },
  {
   "cell_type": "code",
   "execution_count": null,
   "metadata": {},
   "outputs": [],
   "source": []
  },
  {
   "cell_type": "code",
   "execution_count": null,
   "metadata": {},
   "outputs": [],
   "source": []
  }
 ],
 "metadata": {
  "kernelspec": {
   "display_name": "Python 3",
   "language": "python",
   "name": "python3"
  },
  "language_info": {
   "codemirror_mode": {
    "name": "ipython",
    "version": 3
   },
   "file_extension": ".py",
   "mimetype": "text/x-python",
   "name": "python",
   "nbconvert_exporter": "python",
   "pygments_lexer": "ipython3",
   "version": "3.7.3"
  }
 },
 "nbformat": 4,
 "nbformat_minor": 2
}
