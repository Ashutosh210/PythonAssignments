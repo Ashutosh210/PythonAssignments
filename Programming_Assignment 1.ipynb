{
 "cells": [
  {
   "cell_type": "code",
   "execution_count": 2,
   "metadata": {},
   "outputs": [
    {
     "name": "stdout",
     "output_type": "stream",
     "text": [
      "Hello Python\n"
     ]
    }
   ],
   "source": [
    "# 1. Write a Python program to print \"Hello Python\"?\n",
    "\n",
    "# Sol :\n",
    "    \n",
    "print(\"Hello Python\")"
   ]
  },
  {
   "cell_type": "code",
   "execution_count": 3,
   "metadata": {},
   "outputs": [
    {
     "name": "stdout",
     "output_type": "stream",
     "text": [
      "Enter num1 :55\n",
      "Enter num2 :25\n",
      "addition of num1 & num2 is 80\n",
      "division of num1 by num2 is 2.2\n"
     ]
    }
   ],
   "source": [
    "# 2. Write a Python program to do arithmetical operations addition and division.?\n",
    "\n",
    "# Sol :\n",
    "\n",
    "num1 = int(input(\"Enter num1 :\"))\n",
    "num2 = int(input(\"Enter num2 :\"))\n",
    "add_result = num1 + num2\n",
    "div_result = num1 / num2\n",
    "print(f'addition of num1 & num2 is {add_result}')\n",
    "print(f'division of num1 by num2 is {div_result}')"
   ]
  },
  {
   "cell_type": "code",
   "execution_count": 6,
   "metadata": {},
   "outputs": [
    {
     "name": "stdout",
     "output_type": "stream",
     "text": [
      "Enter the height of triangle : 40\n",
      "Enter the base of triangle : 30\n",
      "Area of triange is 600.0\n"
     ]
    }
   ],
   "source": [
    "# 3. Write a Python program to find the area of a triangle?\n",
    "\n",
    "# Sol :\n",
    "\n",
    "height_triangle = int(input(\"Enter the height of triangle : \"))\n",
    "base_triangle = int(input(\"Enter the base of triangle : \"))\n",
    "area_triangle = (1/2)*(height_triangle * base_triangle)\n",
    "print(f'Area of triange is {area_triangle}')"
   ]
  },
  {
   "cell_type": "code",
   "execution_count": 7,
   "metadata": {},
   "outputs": [
    {
     "name": "stdout",
     "output_type": "stream",
     "text": [
      "Before swapping :\n",
      "var1 is 43 and var2 is 87\n",
      "After swapping :\n",
      "var1 is 87 and var2 is 43\n"
     ]
    }
   ],
   "source": [
    "# 4. Write a Python program to swap two variables?\n",
    "\n",
    "# Sol :\n",
    "\n",
    "var1 = 43\n",
    "var2 = 87\n",
    "print(f'Before swapping :\\nvar1 is {var1} and var2 is {var2}')\n",
    "var1,var2 = var2,var1\n",
    "print(f'After swapping :\\nvar1 is {var1} and var2 is {var2}')\n",
    "    "
   ]
  },
  {
   "cell_type": "code",
   "execution_count": 9,
   "metadata": {},
   "outputs": [
    {
     "name": "stdout",
     "output_type": "stream",
     "text": [
      "1990\n"
     ]
    }
   ],
   "source": [
    "# 5. Write a Python program to generate a random number?\n",
    "\n",
    "# Sol :\n",
    "\n",
    "import random\n",
    "print(random.randint(100, 1999))"
   ]
  },
  {
   "cell_type": "code",
   "execution_count": null,
   "metadata": {},
   "outputs": [],
   "source": []
  }
 ],
 "metadata": {
  "kernelspec": {
   "display_name": "Python 3",
   "language": "python",
   "name": "python3"
  },
  "language_info": {
   "codemirror_mode": {
    "name": "ipython",
    "version": 3
   },
   "file_extension": ".py",
   "mimetype": "text/x-python",
   "name": "python",
   "nbconvert_exporter": "python",
   "pygments_lexer": "ipython3",
   "version": "3.7.3"
  }
 },
 "nbformat": 4,
 "nbformat_minor": 2
}
