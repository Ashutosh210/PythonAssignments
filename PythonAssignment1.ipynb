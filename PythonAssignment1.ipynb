{
 "cells": [
  {
   "cell_type": "code",
   "execution_count": null,
   "metadata": {},
   "outputs": [],
   "source": [
    "Q1. Why do we call Python as a general purpose and high-level programming language?\n",
    "\n",
    "Ans : We call python a general purpose and high level programming language because it is written in human readable and\n",
    "    understandable language and not in machine language (Binary language). It is used for multiple purpose like \n",
    "    Web development, data analysis, artificial intelligence etc. It also supports object oriented programming. \n",
    "    \n",
    "\n",
    "Q2. Why is Python called a dynamically typed language?\n",
    "\n",
    "Ans : Python is a dynamically typed language because we do not have to declare the type of the variable while assigning a \n",
    "    value.  In python the type of variable is determined only during runtime.\n",
    "    \n",
    "\n",
    "Q3. List some pros and cons of Python programming language?\n",
    "\n",
    "Ans : Pros of Python programming language :\n",
    "        1. Easy to learn and read.\n",
    "        2. Vast collection of libraries.\n",
    "        3. Free, open-source and vibrant community.\n",
    "        4. Platform independent (Portable).\n",
    "    \n",
    "    Cons of Python programming language :\n",
    "        1. Consumes a lot of memory space.\n",
    "        2. Weak in mobile computing.\n",
    "        3. Slower than compiled language.\n",
    "        4. No multithreading.\n",
    "        \n",
    "Q4. In what all domains can we use Python?\n",
    "\n",
    "Ans : We can use Python in following domains :\n",
    "        1. Data Engineering\n",
    "        2. Data analytics and data visualization\n",
    "        3. Data Science\n",
    "        4. AI and Machien Learning\n",
    "        5. Application development\n",
    "        6. Automation\n",
    "        7. Desktop GUI\n",
    "\n",
    "Q5. What are variable and how can we declare them?\n",
    "\n",
    "Ans : In Python variable is a container which stores values.\n",
    "    To declare a variable in Python we have to follow following rules :\n",
    "        1. Variable name must start with a letter or underscore.\n",
    "        2. Variabel name cannot start with a number.\n",
    "        3. Variabel name only contains alpha numeric characters and underscores.\n",
    "        4. Variable names are case sensitive.\n",
    "        5. Keywords cannot be used for naming variable.\n",
    "        \n",
    "    example:\n",
    "        ashu_21 = 2104\n",
    "        \n",
    "    In above example \"ashu_21\" is a variable.\n",
    "    \n",
    "Q6. How can we take an input from the user in Python?\n",
    "\n",
    "Ans : We have to use input() function to take an input from the user in python.\n",
    "    example :\n",
    "        name = input(\"Enter Your name :\")\n",
    "        \n",
    "\n",
    "Q7. What is the default datatype of the value that has been taken as an input using input() function?\n",
    "\n",
    "Ans : String is the default datatype of the value that has been taken as an input using input() function.\n",
    "    \n",
    "\n",
    "Q8. What is type casting?\n",
    "\n",
    "Ans : The process of converting the value of one data type to another data type is type casting.\n",
    "    for example, by default we get string data type by input() function and if we want to get an int data type we can\n",
    "    do typecasting,\n",
    "    age = int(input(\"Enter your Age :\"))\n",
    "\n",
    "    \n",
    "Q9. Can we take more than one input from the user using single input() function? If yes, how? If no, why?\n",
    "\n",
    "Ans : Yes, we can take multiple input from the user using single input() function with the help of split() and map() method.\n",
    "    example :\n",
    "        first_name, last_name = input(\"Enter the value :\").split()\n",
    "        \n",
    "        marks = list(map(int, input(\"Enter mark of diff subjects: \").split()))\n",
    "        \n",
    "\n",
    "Q10. What are keywords?\n",
    "\n",
    "Ans : Keywords are special reserved words that have specific meanings and purposes and cannot be used for anything but\n",
    "    those specific purposes.\n",
    "    "
   ]
  },
  {
   "cell_type": "code",
   "execution_count": null,
   "metadata": {},
   "outputs": [],
   "source": [
    "Q11. Can we use keywords as a variable? Support your answer with reason.\n",
    "\n",
    "Ans : No, we cannot use keywords as a variable.\n",
    "    Reason : If we use keywords as a variable we will get syntax error.\n",
    "for example :"
   ]
  },
  {
   "cell_type": "code",
   "execution_count": 1,
   "metadata": {},
   "outputs": [
    {
     "ename": "SyntaxError",
     "evalue": "invalid syntax (<ipython-input-1-0f3c77528c35>, line 1)",
     "output_type": "error",
     "traceback": [
      "\u001b[1;36m  File \u001b[1;32m\"<ipython-input-1-0f3c77528c35>\"\u001b[1;36m, line \u001b[1;32m1\u001b[0m\n\u001b[1;33m    for = 40\u001b[0m\n\u001b[1;37m        ^\u001b[0m\n\u001b[1;31mSyntaxError\u001b[0m\u001b[1;31m:\u001b[0m invalid syntax\n"
     ]
    }
   ],
   "source": [
    "for = 40\n",
    "print(for)"
   ]
  },
  {
   "cell_type": "code",
   "execution_count": null,
   "metadata": {},
   "outputs": [],
   "source": [
    "Q12. What is indentation? What is the use of indentation in Python?\n",
    "\n",
    "Ans : Indentation refers to spaces at the beginning of a code line.\n",
    "    Uses of indentation in Python :\n",
    "        1. To indicate a block of code.\n",
    "        2. For better readability of code.\n",
    "        \n",
    "\n",
    "\n",
    "Q13. How can we throw some output in Python?\n",
    "\n",
    "Ans : We can use print() in python to get the output.\n",
    "    for example :"
   ]
  },
  {
   "cell_type": "code",
   "execution_count": 2,
   "metadata": {},
   "outputs": [
    {
     "name": "stdout",
     "output_type": "stream",
     "text": [
      "Ashutosh\n"
     ]
    }
   ],
   "source": [
    "name = \"Ashutosh\"\n",
    "print(name)"
   ]
  },
  {
   "cell_type": "code",
   "execution_count": null,
   "metadata": {},
   "outputs": [],
   "source": [
    "\n",
    "Q14. What are operators in Python?\n",
    "\n",
    "Ans : Operators are special symbols in Python that performs arithmetic or logical computation.\n",
    "    There are various types of operator and some of the are :\n",
    "        1. Arithmetic operators\n",
    "        2. Comparison operators\n",
    "        3. Logical operators\n",
    "        4. Bitwise operators\n",
    "        5. Assignment operators"
   ]
  },
  {
   "cell_type": "code",
   "execution_count": null,
   "metadata": {},
   "outputs": [],
   "source": [
    "Q15. What is difference between / and // operators?\n",
    "\n",
    "Ans : / -> Divides left operand by the right operand and gives result as float data type.\n",
    "    // -> Floor Division, divides left operand by right operand and gives result as int data type.\n",
    "    for example :"
   ]
  },
  {
   "cell_type": "code",
   "execution_count": 3,
   "metadata": {},
   "outputs": [
    {
     "name": "stdout",
     "output_type": "stream",
     "text": [
      "2.4\n",
      "<class 'float'>\n",
      "2\n",
      "<class 'int'>\n"
     ]
    }
   ],
   "source": [
    "a = 12\n",
    "b = 5\n",
    "\n",
    "print(a/b)\n",
    "print(type(a/b))\n",
    "\n",
    "print(a//b)\n",
    "print(type(a//b))"
   ]
  },
  {
   "cell_type": "code",
   "execution_count": 6,
   "metadata": {},
   "outputs": [
    {
     "name": "stdout",
     "output_type": "stream",
     "text": [
      "```\n",
      "iNeuroniNeuroniNeuroniNeuron\n",
      "```\n"
     ]
    }
   ],
   "source": [
    "\n",
    "#Q16. Write a code that gives following as an output.\n",
    "#```\n",
    "#iNeuroniNeuroniNeuroniNeuron\n",
    "#```\n",
    "#Solution :\n",
    "\n",
    "name = 'iNeuron'\n",
    "print('```')\n",
    "#print()\n",
    "print(name*4)\n",
    "print('```')\n"
   ]
  },
  {
   "cell_type": "code",
   "execution_count": 8,
   "metadata": {},
   "outputs": [
    {
     "name": "stdout",
     "output_type": "stream",
     "text": [
      "Enter a number :23\n",
      "Odd number\n"
     ]
    }
   ],
   "source": [
    "# Q17. Write a code to take a number as an input from the user and check if the number is odd or even.\n",
    "\n",
    "# Solution :\n",
    "\n",
    "num = int(input(\"Enter a number :\"))\n",
    "if num%2 == 0:\n",
    "    print(\"Even number\")\n",
    "else:\n",
    "    print(\"Odd number\")"
   ]
  },
  {
   "cell_type": "raw",
   "metadata": {},
   "source": [
    "Q18. What are boolean operator?\n",
    "\n",
    "Ans : Boolean operators are those that take boolean inputs and return Boolean result.\n",
    "     Example of boolean operators are :\n",
    "         1. and\n",
    "         2. or\n",
    "         3. not"
   ]
  },
  {
   "cell_type": "code",
   "execution_count": 10,
   "metadata": {},
   "outputs": [
    {
     "name": "stdout",
     "output_type": "stream",
     "text": [
      "Value of 1 or 0 : 1\n",
      "Value of 0 and 0 : 0\n",
      "Value of True and False and True : False\n",
      "Value of 1 or 0 or 0 : 1\n"
     ]
    }
   ],
   "source": [
    "# Q19. What will the output of the following?\n",
    "# ```\n",
    "# 1 or 0\n",
    "Ans : 1\n",
    "    \n",
    "# 0 and 0\n",
    "Ans : 0\n",
    "    \n",
    "# True and False and True\n",
    "Ans : False\n",
    "# 1 or 0 or 0\n",
    "Ans : 1\n",
    "# ```\n",
    "\n",
    "print('Value of 1 or 0 :', 1 or 0)\n",
    "\n",
    "print('Value of 0 and 0 :', 0 and 0)\n",
    "\n",
    "print('Value of True and False and True :', True and False and True)\n",
    "\n",
    "print('Value of 1 or 0 or 0 :', 1 or 0 or 0)"
   ]
  },
  {
   "cell_type": "code",
   "execution_count": null,
   "metadata": {},
   "outputs": [],
   "source": [
    "Q20. What are conditional statements in Python?\n",
    "\n",
    "Ans : Conditional statement in Python perform different computations or actions depending on whether a specific boolean\n",
    "    constraint evaluates to True or False and it is a decision making statement in Python programming.\n",
    "    In Python conditional statements are :\n",
    "        1. if statement\n",
    "        2. if-else statement\n",
    "        3. if-elif statement\n",
    " \n",
    "\n",
    "Q21. What is use of 'if', 'elif' and 'else' keywords?\n",
    "\n",
    "Ans : The if, elif and else keywords are used for conditional and decision making statements. It is a structured way to \n",
    "    control the flow of a program."
   ]
  },
  {
   "cell_type": "code",
   "execution_count": 13,
   "metadata": {},
   "outputs": [
    {
     "name": "stdout",
     "output_type": "stream",
     "text": [
      "Enter your Age :22\n",
      "I can vote\n"
     ]
    }
   ],
   "source": [
    "# Q22. Write a code to take the age of person as an input and if age >= 18 display \"I can vote\". \n",
    "# If age is < 18 display \"I can't vote\".\n",
    "\n",
    "# Solution :\n",
    "\n",
    "age = int(input(\"Enter your Age :\"))\n",
    "if age>=18 :\n",
    "    print(\"I can vote\")\n",
    "else:\n",
    "    print(\"I can't vote\")"
   ]
  },
  {
   "cell_type": "code",
   "execution_count": 14,
   "metadata": {},
   "outputs": [
    {
     "name": "stdout",
     "output_type": "stream",
     "text": [
      "392\n"
     ]
    }
   ],
   "source": [
    "# Q23. Write a code that displays the sum of all the even numbers from the given list.\n",
    "# ```\n",
    "# numbers = [12, 75, 150, 180, 145, 525, 50]\n",
    "# ```\n",
    "\n",
    "# Solution :\n",
    "\n",
    "numbers = [12, 75, 150, 180, 145, 525, 50]\n",
    "sum_even = 0\n",
    "for num in numbers:\n",
    "    if num%2 == 0 :\n",
    "        sum_even += num\n",
    "print(sum_even)"
   ]
  },
  {
   "cell_type": "code",
   "execution_count": 5,
   "metadata": {},
   "outputs": [
    {
     "name": "stdout",
     "output_type": "stream",
     "text": [
      "Enter 1st number :152\n",
      "Enter 2nd number :22\n",
      "Enter 3rd number :99\n",
      "152\n"
     ]
    }
   ],
   "source": [
    "# Q24. Write a code to take 3 numbers as an input from the user and display the greatest no as output.\n",
    "\n",
    "# Solution :\n",
    "\n",
    "# marks = list(map(int, input(\"Enter mark of diff subjects: \").split()))\n",
    "# print(max(marks))\n",
    "# type(marks)\n",
    "\n",
    "num1 = int(input(\"Enter 1st number :\"))\n",
    "num2 = int(input(\"Enter 2nd number :\"))\n",
    "num3 = int(input(\"Enter 3rd number :\"))\n",
    "print(max(num1,num2,num3))"
   ]
  },
  {
   "cell_type": "code",
   "execution_count": 9,
   "metadata": {},
   "outputs": [
    {
     "name": "stdout",
     "output_type": "stream",
     "text": [
      "75\n",
      "150\n",
      "145\n"
     ]
    }
   ],
   "source": [
    "# Q25. Write a program to display only those numbers from a list that satisfy the following conditions- \n",
    "# The number must be divisible by five-if the number is greater than 150, then skip it and move to the next number- \n",
    "# If the number is greater than 500, then stop the loop\n",
    "# ```\n",
    "# numbers = [12, 75, 150, 180, 145, 525, 50]\n",
    "# ```\n",
    "\n",
    "# Solution :\n",
    "\n",
    "numbers = [12, 75, 150, 180, 145, 525, 50]\n",
    "for num in numbers:\n",
    "    if num%5 == 0:\n",
    "        if num > 150 and num <= 500:\n",
    "            continue\n",
    "        elif num > 500:\n",
    "            break\n",
    "        else:\n",
    "            print(num)\n",
    "\n",
    "#     if num > 500:\n",
    "#         break\n",
    "#     elif num >150:\n",
    "#         continue\n",
    "#     elif num%5 == 0:\n",
    "#         print(num)\n"
   ]
  },
  {
   "cell_type": "code",
   "execution_count": null,
   "metadata": {},
   "outputs": [],
   "source": []
  }
 ],
 "metadata": {
  "kernelspec": {
   "display_name": "Python 3",
   "language": "python",
   "name": "python3"
  },
  "language_info": {
   "codemirror_mode": {
    "name": "ipython",
    "version": 3
   },
   "file_extension": ".py",
   "mimetype": "text/x-python",
   "name": "python",
   "nbconvert_exporter": "python",
   "pygments_lexer": "ipython3",
   "version": "3.7.3"
  }
 },
 "nbformat": 4,
 "nbformat_minor": 2
}
